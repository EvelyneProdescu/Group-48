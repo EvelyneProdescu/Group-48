{
 "cells": [
  {
   "cell_type": "markdown",
   "id": "02eb7550",
   "metadata": {},
   "source": [
    "**imports**"
   ]
  },
  {
   "cell_type": "code",
   "execution_count": 2,
   "id": "4147320a",
   "metadata": {},
   "outputs": [],
   "source": [
    "import spacy\n",
    "import sklearn\n",
    "import pathlib\n",
    "import numpy\n",
    "import nltk\n",
    "import pandas as pd\n",
    "import numpy as np\n",
    "import matplotlib.pyplot as plt \n",
    "import seaborn as sn\n",
    "import json\n",
    "\n",
    "from sklearn import metrics\n",
    "from sklearn.metrics import classification_report\n",
    "from nltk.sentiment.vader import SentimentIntensityAnalyzer\n",
    "from nltk.corpus import stopwords\n",
    "from collections import Counter\n",
    "from sklearn.datasets import load_files\n",
    "from sklearn.feature_extraction.text import CountVectorizer\n",
    "from sklearn.feature_extraction.text import TfidfTransformer\n",
    "from sklearn.naive_bayes import MultinomialNB\n",
    "from sklearn.naive_bayes import ComplementNB\n",
    "from sklearn.model_selection import train_test_split\n",
    "from simpletransformers.classification import ClassificationModel, ClassificationArgs\n"
   ]
  },
  {
   "cell_type": "markdown",
   "id": "05596637",
   "metadata": {},
   "source": [
    "# Data Preprocessing"
   ]
  },
  {
   "cell_type": "markdown",
   "id": "c3cd5ccc",
   "metadata": {},
   "source": [
    "**Preparing Train Set**"
   ]
  },
  {
   "cell_type": "code",
   "execution_count": 3,
   "id": "97413fc9",
   "metadata": {},
   "outputs": [],
   "source": [
    "with open('my_tweets.json') as f:\n",
    "    data = json.load(f)\n",
    "\n",
    "tweets = []\n",
    "tweets_target=[]\n",
    "tweets_topics=[]\n",
    "for tweet in data.values():\n",
    "    tweets.append(tweet['text_of_tweet'])\n",
    "    tweets_target.append(tweet[\"sentiment_label\"])\n",
    "    tweets_topics.append(tweet[\"tweet_topic\"]) "
   ]
  },
  {
   "cell_type": "code",
   "execution_count": 4,
   "id": "002a5226",
   "metadata": {},
   "outputs": [],
   "source": [
    "#converting the tweets labels from words to numbers for train set labels\n",
    "for i in range(len(tweets_target)):\n",
    "    if tweets_target[i] == 'positive':\n",
    "        tweets_target[i] = 2\n",
    "    elif tweets_target[i] == 'neutral':\n",
    "        tweets_target[i] = 1\n",
    "    elif tweets_target[i] == 'negative':\n",
    "        tweets_target[i] = 0"
   ]
  },
  {
   "cell_type": "code",
   "execution_count": 5,
   "id": "e14f5219",
   "metadata": {},
   "outputs": [],
   "source": [
    "# converting word to number label of train set topics\n",
    "for i in range(len(tweets_topics)):\n",
    "    if tweets_topics[i] == 'movie':\n",
    "        tweets_topics[i] = 0\n",
    "    elif tweets_topics[i] == 'restaurant':\n",
    "        tweets_topics[i] = 1\n",
    "    elif tweets_topics[i] == 'book':\n",
    "        tweets_topics[i] = 2"
   ]
  },
  {
   "cell_type": "markdown",
   "id": "ca710836",
   "metadata": {},
   "source": [
    "**Preparing Test Set**"
   ]
  },
  {
   "cell_type": "code",
   "execution_count": 6,
   "id": "9331f635",
   "metadata": {},
   "outputs": [],
   "source": [
    "#importing the test set \n",
    "import csv\n",
    "sentences= []\n",
    "real_labels=[]\n",
    "test_topics=[]\n",
    "with open('sentiment-topic-final-test.tsv', 'r') as tsv_file:\n",
    "    tsv_reader = csv.reader(tsv_file, delimiter='\\t')\n",
    "    next(tsv_reader)  # Skips the first row\n",
    "    for row in tsv_reader:\n",
    "        sentences.append(row[1])\n",
    "        test_topics.append(row[3]) \n",
    "        real_labels.append(row[2])"
   ]
  },
  {
   "cell_type": "code",
   "execution_count": 7,
   "id": "8f685093",
   "metadata": {},
   "outputs": [],
   "source": [
    "# converting word to number label of test set topics\n",
    "for i in range(len(test_topics)):\n",
    "    if test_topics[i] == 'movie':\n",
    "        test_topics[i] = 0\n",
    "    elif test_topics[i] == 'restaurant':\n",
    "        test_topics[i] = 1\n",
    "    elif test_topics[i] == 'book':\n",
    "        test_topics[i] = 2"
   ]
  },
  {
   "cell_type": "markdown",
   "id": "033577d2",
   "metadata": {},
   "source": [
    "# Sentiment Analysis"
   ]
  },
  {
   "cell_type": "markdown",
   "id": "58de7c1b",
   "metadata": {},
   "source": [
    "**Sentiment Analysis: VADER**"
   ]
  },
  {
   "cell_type": "code",
   "execution_count": 8,
   "id": "7b50ebf7",
   "metadata": {},
   "outputs": [],
   "source": [
    "nlp = spacy.load(\"en_core_web_sm\")\n",
    "vader_model = SentimentIntensityAnalyzer()\n",
    "\n",
    "def run_vader(textual_unit, \n",
    "              lemmatize=True, \n",
    "              parts_of_speech_to_consider=None,\n",
    "              verbose=0):\n",
    "    doc = nlp(textual_unit)\n",
    "        \n",
    "    input_to_vader = []\n",
    "\n",
    "    for sent in doc.sents:\n",
    "        for token in sent:\n",
    "\n",
    "            to_add = token.text\n",
    "\n",
    "            if lemmatize:\n",
    "                to_add = token.lemma_\n",
    "\n",
    "                if to_add == '-PRON-': \n",
    "                    to_add = token.text\n",
    "\n",
    "            if parts_of_speech_to_consider:\n",
    "                if token.pos_ in parts_of_speech_to_consider:\n",
    "                    input_to_vader.append(to_add) \n",
    "            else:\n",
    "                input_to_vader.append(to_add)\n",
    "\n",
    "    scores = vader_model.polarity_scores(' '.join(input_to_vader))\n",
    "    \n",
    "    if verbose >= 1:\n",
    "        print()\n",
    "        print('INPUT SENTENCE', sent)\n",
    "        print('INPUT TO VADER', input_to_vader)\n",
    "        print('VADER OUTPUT', scores)\n",
    "\n",
    "    return scores"
   ]
  },
  {
   "cell_type": "code",
   "execution_count": 9,
   "id": "da19d706",
   "metadata": {},
   "outputs": [],
   "source": [
    "def vader_output_to_label(vader_output):\n",
    "    compound = vader_output['compound']\n",
    "    \n",
    "    if compound < 0:\n",
    "        return 'negative'\n",
    "    elif compound == 0.0:\n",
    "        return 'neutral'\n",
    "    elif compound > 0.0:\n",
    "        return 'positive'\n",
    "    \n",
    "assert vader_output_to_label( {'neg': 0.0, 'neu': 0.0, 'pos': 1.0, 'compound': 0.0}) == 'neutral'\n",
    "assert vader_output_to_label( {'neg': 0.0, 'neu': 0.0, 'pos': 1.0, 'compound': 0.01}) == 'positive'\n",
    "assert vader_output_to_label( {'neg': 0.0, 'neu': 0.0, 'pos': 1.0, 'compound': -0.01}) == 'negative'"
   ]
  },
  {
   "cell_type": "code",
   "execution_count": 10,
   "id": "60cd4657",
   "metadata": {},
   "outputs": [
    {
     "name": "stdout",
     "output_type": "stream",
     "text": [
      "              precision    recall  f1-score   support\n",
      "\n",
      "    negative      0.500     0.333     0.400         3\n",
      "     neutral      0.000     0.000     0.000         3\n",
      "    positive      0.500     1.000     0.667         4\n",
      "\n",
      "    accuracy                          0.500        10\n",
      "   macro avg      0.333     0.444     0.356        10\n",
      "weighted avg      0.350     0.500     0.387        10\n",
      "\n"
     ]
    },
    {
     "name": "stderr",
     "output_type": "stream",
     "text": [
      "/Users/mac/.local/lib/python3.8/site-packages/sklearn/metrics/_classification.py:1272: UndefinedMetricWarning: Precision and F-score are ill-defined and being set to 0.0 in labels with no predicted samples. Use `zero_division` parameter to control this behavior.\n",
      "  _warn_prf(average, modifier, msg_start, len(result))\n"
     ]
    }
   ],
   "source": [
    "labels_predicted_by_vader=[]\n",
    "    \n",
    "for sentence in sentences:\n",
    "    vader_output = run_vader(sentence,lemmatize=True)\n",
    "    labels_predicted_by_vader.append(vader_output_to_label(vader_output))\n",
    "    \n",
    "report = classification_report(real_labels,labels_predicted_by_vader,digits = 3)\n",
    "print(report)"
   ]
  },
  {
   "cell_type": "markdown",
   "id": "fc6dfa16",
   "metadata": {},
   "source": [
    "**Sentiment Analysis: Multinomial Naive Bayes**"
   ]
  },
  {
   "cell_type": "code",
   "execution_count": 11,
   "id": "6bb482f0",
   "metadata": {},
   "outputs": [],
   "source": [
    "#converting the tweets labels from words to numbers for test set labels\n",
    "for i in range(len(real_labels)):\n",
    "    if real_labels[i] == 'positive':\n",
    "        real_labels[i] = 2\n",
    "    elif real_labels[i] == 'neutral':\n",
    "        real_labels[i] = 1\n",
    "    elif real_labels[i] == 'negative':\n",
    "        real_labels[i] = 0"
   ]
  },
  {
   "cell_type": "code",
   "execution_count": 12,
   "id": "6055233a",
   "metadata": {},
   "outputs": [
    {
     "name": "stderr",
     "output_type": "stream",
     "text": [
      "/Users/mac/.local/lib/python3.8/site-packages/sklearn/feature_extraction/text.py:382: UserWarning: Your stop_words may be inconsistent with your preprocessing. Tokenizing the stop words generated tokens [\"'d\", \"'ll\", \"'re\", \"'s\", \"'ve\", 'could', 'might', 'must', \"n't\", 'need', 'sha', 'wo', 'would'] not in stop_words.\n",
      "  warnings.warn('Your stop_words may be inconsistent with '\n"
     ]
    }
   ],
   "source": [
    "tweets_vec = CountVectorizer(min_df=2, # If a token appears fewer times than this, across all documents, it will be ignored\n",
    "                             tokenizer=nltk.word_tokenize, # we use the nltk tokenizer\n",
    "                             stop_words=stopwords.words('english')) # stopwords are removed\n",
    "tweets_counts = tweets_vec.fit_transform(tweets)\n",
    "tfidf_transformer = TfidfTransformer()\n",
    "tweets_tfidf = tfidf_transformer.fit_transform(tweets_counts)"
   ]
  },
  {
   "cell_type": "code",
   "execution_count": 13,
   "id": "1b9e90c6",
   "metadata": {},
   "outputs": [
    {
     "name": "stdout",
     "output_type": "stream",
     "text": [
      "              precision    recall  f1-score   support\n",
      "\n",
      "           0      0.000     0.000     0.000         3\n",
      "           1      0.500     0.667     0.571         3\n",
      "           2      0.333     0.500     0.400         4\n",
      "\n",
      "    accuracy                          0.400        10\n",
      "   macro avg      0.278     0.389     0.324        10\n",
      "weighted avg      0.283     0.400     0.331        10\n",
      "\n"
     ]
    },
    {
     "name": "stderr",
     "output_type": "stream",
     "text": [
      "/Users/mac/.local/lib/python3.8/site-packages/sklearn/metrics/_classification.py:1272: UndefinedMetricWarning: Precision and F-score are ill-defined and being set to 0.0 in labels with no predicted samples. Use `zero_division` parameter to control this behavior.\n",
      "  _warn_prf(average, modifier, msg_start, len(result))\n"
     ]
    }
   ],
   "source": [
    "docs_train, docs_test, y_train, y_test = train_test_split(\n",
    "    tweets_tfidf, # the tf-idf model\n",
    "    tweets_target, # the category values for each tweet \n",
    "    test_size = 0.2 # we use 80% for training and 20% for development\n",
    "    ) \n",
    "\n",
    "clf = MultinomialNB().fit(docs_train, y_train)\n",
    "y_pred = clf.predict(docs_test)\n",
    "\n",
    "report = classification_report(real_labels,y_pred,digits = 3)\n",
    "print(report)"
   ]
  },
  {
   "cell_type": "markdown",
   "id": "fa28629c",
   "metadata": {},
   "source": [
    "**Sentiment Analysis: Complement Naive Bayes**"
   ]
  },
  {
   "cell_type": "code",
   "execution_count": 14,
   "id": "51c745bf",
   "metadata": {},
   "outputs": [
    {
     "name": "stdout",
     "output_type": "stream",
     "text": [
      "              precision    recall  f1-score   support\n",
      "\n",
      "           0      1.000     0.333     0.500         3\n",
      "           1      1.000     0.667     0.800         3\n",
      "           2      0.571     1.000     0.727         4\n",
      "\n",
      "    accuracy                          0.700        10\n",
      "   macro avg      0.857     0.667     0.676        10\n",
      "weighted avg      0.829     0.700     0.681        10\n",
      "\n"
     ]
    }
   ],
   "source": [
    "docs_train, docs_test, y_train, y_test = train_test_split(\n",
    "    tweets_tfidf, # the tf-idf model\n",
    "    tweets_target, # the category values for each tweet \n",
    "    test_size = 0.2 # we use 80% for training and 20% for development\n",
    "    ) \n",
    "\n",
    "clf = ComplementNB().fit(docs_train, y_train)\n",
    "y_pred2 = clf.predict(docs_test)\n",
    "\n",
    "report = classification_report(real_labels,y_pred2,digits = 3)\n",
    "print(report)"
   ]
  },
  {
   "cell_type": "markdown",
   "id": "dfc1db9a",
   "metadata": {},
   "source": [
    "**Error Analysis of Sentiment Analysis Models**"
   ]
  },
  {
   "cell_type": "code",
   "execution_count": 15,
   "id": "2860173c",
   "metadata": {},
   "outputs": [],
   "source": [
    "sentiment_labels = {2: 'positive', 1: 'neutral', 0: 'negative'}\n",
    "list1 = [2, 0, 2, 2, 2, 1, 2, 0, 2, 2]\n",
    "y_pred = [sentiment_labels[i] for i in y_pred]\n",
    "y_pred2 = [sentiment_labels[i] for i in y_pred2]"
   ]
  },
  {
   "cell_type": "code",
   "execution_count": 16,
   "id": "61e72642",
   "metadata": {},
   "outputs": [],
   "source": [
    "sentiment_labels = {2: 'positive', 1: 'neutral', 0: 'negative'}\n",
    "\n",
    "for i in range(len(real_labels)):\n",
    "    if real_labels[i] in sentiment_labels:\n",
    "        real_labels[i] = sentiment_labels[real_labels[i]]\n",
    "\n",
    "for i in range(len(y_pred)):\n",
    "    if isinstance(y_pred[i], int) and y_pred[i] in sentiment_labels:\n",
    "        y_pred[i] = sentiment_labels[y_pred[i]]\n",
    "\n",
    "for i in range(len(y_pred2)):\n",
    "    if isinstance(y_pred2[i], int) and y_pred2[i] in sentiment_labels:\n",
    "        y_pred2[i] = sentiment_labels[y_pred2[i]]"
   ]
  },
  {
   "cell_type": "code",
   "execution_count": 17,
   "id": "5ee65b30",
   "metadata": {},
   "outputs": [
    {
     "data": {
      "text/html": [
       "<div>\n",
       "<style scoped>\n",
       "    .dataframe tbody tr th:only-of-type {\n",
       "        vertical-align: middle;\n",
       "    }\n",
       "\n",
       "    .dataframe tbody tr th {\n",
       "        vertical-align: top;\n",
       "    }\n",
       "\n",
       "    .dataframe thead th {\n",
       "        text-align: right;\n",
       "    }\n",
       "</style>\n",
       "<table border=\"1\" class=\"dataframe\">\n",
       "  <thead>\n",
       "    <tr style=\"text-align: right;\">\n",
       "      <th></th>\n",
       "      <th>sentences</th>\n",
       "      <th>real_label</th>\n",
       "      <th>vader_predicted_label</th>\n",
       "      <th>complementNB_predicted_label</th>\n",
       "      <th>multinomialNB_predicted_label</th>\n",
       "    </tr>\n",
       "  </thead>\n",
       "  <tbody>\n",
       "    <tr>\n",
       "      <th>0</th>\n",
       "      <td>It took eight years for Warner Brothers to rec...</td>\n",
       "      <td>negative</td>\n",
       "      <td>negative</td>\n",
       "      <td>positive</td>\n",
       "      <td>positive</td>\n",
       "    </tr>\n",
       "    <tr>\n",
       "      <th>1</th>\n",
       "      <td>All the New York University students love this...</td>\n",
       "      <td>positive</td>\n",
       "      <td>positive</td>\n",
       "      <td>positive</td>\n",
       "      <td>neutral</td>\n",
       "    </tr>\n",
       "    <tr>\n",
       "      <th>2</th>\n",
       "      <td>This Italian place is really trendy but they h...</td>\n",
       "      <td>negative</td>\n",
       "      <td>positive</td>\n",
       "      <td>negative</td>\n",
       "      <td>positive</td>\n",
       "    </tr>\n",
       "    <tr>\n",
       "      <th>3</th>\n",
       "      <td>In conclusion, my review of this book would be...</td>\n",
       "      <td>positive</td>\n",
       "      <td>positive</td>\n",
       "      <td>positive</td>\n",
       "      <td>positive</td>\n",
       "    </tr>\n",
       "    <tr>\n",
       "      <th>4</th>\n",
       "      <td>The story of this movie is focused on Carl Bra...</td>\n",
       "      <td>neutral</td>\n",
       "      <td>positive</td>\n",
       "      <td>neutral</td>\n",
       "      <td>positive</td>\n",
       "    </tr>\n",
       "    <tr>\n",
       "      <th>5</th>\n",
       "      <td>Chris O'Donnell stated that while filming for ...</td>\n",
       "      <td>neutral</td>\n",
       "      <td>positive</td>\n",
       "      <td>positive</td>\n",
       "      <td>neutral</td>\n",
       "    </tr>\n",
       "    <tr>\n",
       "      <th>6</th>\n",
       "      <td>My husband and I moved to Amsterdam 6 years ag...</td>\n",
       "      <td>positive</td>\n",
       "      <td>positive</td>\n",
       "      <td>positive</td>\n",
       "      <td>neutral</td>\n",
       "    </tr>\n",
       "    <tr>\n",
       "      <th>7</th>\n",
       "      <td>Dame Maggie Smith performed her role excellent...</td>\n",
       "      <td>positive</td>\n",
       "      <td>positive</td>\n",
       "      <td>positive</td>\n",
       "      <td>positive</td>\n",
       "    </tr>\n",
       "    <tr>\n",
       "      <th>8</th>\n",
       "      <td>The new movie by Mr. Kruno was shot in New Yor...</td>\n",
       "      <td>neutral</td>\n",
       "      <td>negative</td>\n",
       "      <td>neutral</td>\n",
       "      <td>neutral</td>\n",
       "    </tr>\n",
       "    <tr>\n",
       "      <th>9</th>\n",
       "      <td>I always have loved English novels, but I just...</td>\n",
       "      <td>negative</td>\n",
       "      <td>positive</td>\n",
       "      <td>positive</td>\n",
       "      <td>positive</td>\n",
       "    </tr>\n",
       "  </tbody>\n",
       "</table>\n",
       "</div>"
      ],
      "text/plain": [
       "                                           sentences real_label  \\\n",
       "0  It took eight years for Warner Brothers to rec...   negative   \n",
       "1  All the New York University students love this...   positive   \n",
       "2  This Italian place is really trendy but they h...   negative   \n",
       "3  In conclusion, my review of this book would be...   positive   \n",
       "4  The story of this movie is focused on Carl Bra...    neutral   \n",
       "5  Chris O'Donnell stated that while filming for ...    neutral   \n",
       "6  My husband and I moved to Amsterdam 6 years ag...   positive   \n",
       "7  Dame Maggie Smith performed her role excellent...   positive   \n",
       "8  The new movie by Mr. Kruno was shot in New Yor...    neutral   \n",
       "9  I always have loved English novels, but I just...   negative   \n",
       "\n",
       "  vader_predicted_label complementNB_predicted_label  \\\n",
       "0              negative                     positive   \n",
       "1              positive                     positive   \n",
       "2              positive                     negative   \n",
       "3              positive                     positive   \n",
       "4              positive                      neutral   \n",
       "5              positive                     positive   \n",
       "6              positive                     positive   \n",
       "7              positive                     positive   \n",
       "8              negative                      neutral   \n",
       "9              positive                     positive   \n",
       "\n",
       "  multinomialNB_predicted_label  \n",
       "0                      positive  \n",
       "1                       neutral  \n",
       "2                      positive  \n",
       "3                      positive  \n",
       "4                      positive  \n",
       "5                       neutral  \n",
       "6                       neutral  \n",
       "7                      positive  \n",
       "8                       neutral  \n",
       "9                      positive  "
      ]
     },
     "execution_count": 17,
     "metadata": {},
     "output_type": "execute_result"
    }
   ],
   "source": [
    "import pandas as pd\n",
    "\n",
    "data = {\n",
    "    'sentences': sentences,\n",
    "    'real_label': real_labels,\n",
    "    'vader_predicted_label': labels_predicted_by_vader,\n",
    "    'complementNB_predicted_label': y_pred2,\n",
    "    'multinomialNB_predicted_label': y_pred\n",
    "}\n",
    "\n",
    "df = pd.DataFrame(data)\n",
    "df"
   ]
  },
  {
   "cell_type": "markdown",
   "id": "dee0950b",
   "metadata": {},
   "source": [
    "# Topic Analysis"
   ]
  },
  {
   "cell_type": "markdown",
   "id": "2734f4e9",
   "metadata": {},
   "source": [
    "**BERT**"
   ]
  },
  {
   "cell_type": "code",
   "execution_count": 14,
   "id": "47cc1f15",
   "metadata": {},
   "outputs": [],
   "source": [
    "categories = ['movie', 'book', 'restaurant'] "
   ]
  },
  {
   "cell_type": "code",
   "execution_count": 15,
   "id": "802246d3",
   "metadata": {},
   "outputs": [],
   "source": [
    "test = pd.DataFrame({'text': sentences, 'labels': test_topics})"
   ]
  },
  {
   "cell_type": "code",
   "execution_count": 16,
   "id": "c2913202",
   "metadata": {},
   "outputs": [],
   "source": [
    "train = pd.DataFrame({'text': tweets, 'labels': tweets_topics})"
   ]
  },
  {
   "cell_type": "code",
   "execution_count": 23,
   "id": "36593cab",
   "metadata": {},
   "outputs": [],
   "source": [
    "# Model configuration # https://simpletransformers.ai/docs/usage/#configuring-a-simple-transformers-model \n",
    "model_args = ClassificationArgs()\n",
    "\n",
    "model_args.overwrite_output_dir=True # overwrite existing saved models in the same directory\n",
    "model_args.evaluate_during_training=True # to perform evaluation while training the model\n",
    "# (eval data should be passed to the training method)\n",
    "\n",
    "model_args.num_train_epochs=5 # number of epochs\n",
    "model_args.train_batch_size=8 # batch size\n",
    "model_args.learning_rate=1e-5 # learning rate\n",
    "model_args.max_seq_length=256 # maximum sequence length\n",
    "# Note! Increasing max_seq_len may provide better performance, but training time will increase. \n",
    "# For educational purposes, we set max_seq_len to 256.\n",
    "\n",
    "# Early stopping to combat overfitting: https://simpletransformers.ai/docs/tips-and-tricks/#using-early-stopping\n",
    "model_args.use_early_stopping=True\n",
    "model_args.early_stopping_delta=0.01 # \"The improvement over best_eval_loss necessary to count as a better checkpoint\"\n",
    "model_args.early_stopping_metric='eval_loss'\n",
    "model_args.early_stopping_metric_minimize=True\n",
    "model_args.early_stopping_patience=2\n",
    "model_args.evaluate_during_training_steps=32 # how often you want to run validation in terms of training steps (or batches)"
   ]
  },
  {
   "cell_type": "code",
   "execution_count": 24,
   "id": "9ea50e81",
   "metadata": {},
   "outputs": [
    {
     "name": "stderr",
     "output_type": "stream",
     "text": [
      "Some weights of the model checkpoint at bert-base-cased were not used when initializing BertForSequenceClassification: ['cls.predictions.decoder.weight', 'cls.predictions.transform.LayerNorm.weight', 'cls.predictions.transform.LayerNorm.bias', 'cls.predictions.transform.dense.weight', 'cls.seq_relationship.bias', 'cls.predictions.transform.dense.bias', 'cls.seq_relationship.weight', 'cls.predictions.bias']\n",
      "- This IS expected if you are initializing BertForSequenceClassification from the checkpoint of a model trained on another task or with another architecture (e.g. initializing a BertForSequenceClassification model from a BertForPreTraining model).\n",
      "- This IS NOT expected if you are initializing BertForSequenceClassification from the checkpoint of a model that you expect to be exactly identical (initializing a BertForSequenceClassification model from a BertForSequenceClassification model).\n",
      "Some weights of BertForSequenceClassification were not initialized from the model checkpoint at bert-base-cased and are newly initialized: ['classifier.weight', 'classifier.bias']\n",
      "You should probably TRAIN this model on a down-stream task to be able to use it for predictions and inference.\n"
     ]
    }
   ],
   "source": [
    "model = ClassificationModel('bert', 'bert-base-cased', num_labels=3, args=model_args, use_cuda=False) # CUDA is enabled"
   ]
  },
  {
   "cell_type": "code",
   "execution_count": 25,
   "id": "72b7bb0f",
   "metadata": {},
   "outputs": [],
   "source": [
    "train, dev = train_test_split(train, test_size=0.3, random_state=0, \n",
    "                               stratify=train[['labels']])"
   ]
  },
  {
   "cell_type": "code",
   "execution_count": 26,
   "id": "5e25f69a",
   "metadata": {},
   "outputs": [
    {
     "data": {
      "application/vnd.jupyter.widget-view+json": {
       "model_id": "bcc042184b15442bbd02cb93b5a2abe4",
       "version_major": 2,
       "version_minor": 0
      },
      "text/plain": [
       "  0%|          | 0/24 [00:00<?, ?it/s]"
      ]
     },
     "metadata": {},
     "output_type": "display_data"
    },
    {
     "name": "stdout",
     "output_type": "stream",
     "text": [
      "huggingface/tokenizers: The current process just got forked, after parallelism has already been used. Disabling parallelism to avoid deadlocks...\n",
      "To disable this warning, you can either:\n",
      "\t- Avoid using `tokenizers` before the fork if possible\n",
      "\t- Explicitly set the environment variable TOKENIZERS_PARALLELISM=(true | false)\n"
     ]
    },
    {
     "data": {
      "application/vnd.jupyter.widget-view+json": {
       "model_id": "967e5022255041deaddf4d013d195abe",
       "version_major": 2,
       "version_minor": 0
      },
      "text/plain": [
       "Epoch:   0%|          | 0/5 [00:00<?, ?it/s]"
      ]
     },
     "metadata": {},
     "output_type": "display_data"
    },
    {
     "data": {
      "application/vnd.jupyter.widget-view+json": {
       "model_id": "3dbd5ca2c53f4b91a37b8ee3f0d3a273",
       "version_major": 2,
       "version_minor": 0
      },
      "text/plain": [
       "Running Epoch 0 of 5:   0%|          | 0/3 [00:00<?, ?it/s]"
      ]
     },
     "metadata": {},
     "output_type": "display_data"
    },
    {
     "data": {
      "application/vnd.jupyter.widget-view+json": {
       "model_id": "e1e903060fb34b04af6c9c4ce1056f7d",
       "version_major": 2,
       "version_minor": 0
      },
      "text/plain": [
       "  0%|          | 0/11 [00:00<?, ?it/s]"
      ]
     },
     "metadata": {},
     "output_type": "display_data"
    },
    {
     "name": "stdout",
     "output_type": "stream",
     "text": [
      "huggingface/tokenizers: The current process just got forked, after parallelism has already been used. Disabling parallelism to avoid deadlocks...\n",
      "To disable this warning, you can either:\n",
      "\t- Avoid using `tokenizers` before the fork if possible\n",
      "\t- Explicitly set the environment variable TOKENIZERS_PARALLELISM=(true | false)\n"
     ]
    },
    {
     "data": {
      "application/vnd.jupyter.widget-view+json": {
       "model_id": "cec83739eace4b598eed504b4f1ae47d",
       "version_major": 2,
       "version_minor": 0
      },
      "text/plain": [
       "Running Epoch 1 of 5:   0%|          | 0/3 [00:00<?, ?it/s]"
      ]
     },
     "metadata": {},
     "output_type": "display_data"
    },
    {
     "data": {
      "application/vnd.jupyter.widget-view+json": {
       "model_id": "0b185bdea03546e0b58866cb7fe04bb1",
       "version_major": 2,
       "version_minor": 0
      },
      "text/plain": [
       "  0%|          | 0/11 [00:00<?, ?it/s]"
      ]
     },
     "metadata": {},
     "output_type": "display_data"
    },
    {
     "name": "stdout",
     "output_type": "stream",
     "text": [
      "huggingface/tokenizers: The current process just got forked, after parallelism has already been used. Disabling parallelism to avoid deadlocks...\n",
      "To disable this warning, you can either:\n",
      "\t- Avoid using `tokenizers` before the fork if possible\n",
      "\t- Explicitly set the environment variable TOKENIZERS_PARALLELISM=(true | false)\n"
     ]
    },
    {
     "data": {
      "application/vnd.jupyter.widget-view+json": {
       "model_id": "a94c666374c44cbd8b8fb3cddb281647",
       "version_major": 2,
       "version_minor": 0
      },
      "text/plain": [
       "Running Epoch 2 of 5:   0%|          | 0/3 [00:00<?, ?it/s]"
      ]
     },
     "metadata": {},
     "output_type": "display_data"
    },
    {
     "data": {
      "application/vnd.jupyter.widget-view+json": {
       "model_id": "cdbbaddc5eda4f95953c0654583e1382",
       "version_major": 2,
       "version_minor": 0
      },
      "text/plain": [
       "  0%|          | 0/11 [00:00<?, ?it/s]"
      ]
     },
     "metadata": {},
     "output_type": "display_data"
    },
    {
     "name": "stdout",
     "output_type": "stream",
     "text": [
      "huggingface/tokenizers: The current process just got forked, after parallelism has already been used. Disabling parallelism to avoid deadlocks...\n",
      "To disable this warning, you can either:\n",
      "\t- Avoid using `tokenizers` before the fork if possible\n",
      "\t- Explicitly set the environment variable TOKENIZERS_PARALLELISM=(true | false)\n"
     ]
    },
    {
     "data": {
      "application/vnd.jupyter.widget-view+json": {
       "model_id": "bfea8d8f0a044d3d9e53859a525a1d2d",
       "version_major": 2,
       "version_minor": 0
      },
      "text/plain": [
       "Running Epoch 3 of 5:   0%|          | 0/3 [00:00<?, ?it/s]"
      ]
     },
     "metadata": {},
     "output_type": "display_data"
    },
    {
     "data": {
      "application/vnd.jupyter.widget-view+json": {
       "model_id": "029d5ff625e7407abbe1f6c9358d886e",
       "version_major": 2,
       "version_minor": 0
      },
      "text/plain": [
       "  0%|          | 0/11 [00:00<?, ?it/s]"
      ]
     },
     "metadata": {},
     "output_type": "display_data"
    },
    {
     "name": "stdout",
     "output_type": "stream",
     "text": [
      "huggingface/tokenizers: The current process just got forked, after parallelism has already been used. Disabling parallelism to avoid deadlocks...\n",
      "To disable this warning, you can either:\n",
      "\t- Avoid using `tokenizers` before the fork if possible\n",
      "\t- Explicitly set the environment variable TOKENIZERS_PARALLELISM=(true | false)\n"
     ]
    },
    {
     "data": {
      "application/vnd.jupyter.widget-view+json": {
       "model_id": "6cdb02e9fae74801bbb5f59af7d73c9e",
       "version_major": 2,
       "version_minor": 0
      },
      "text/plain": [
       "Running Epoch 4 of 5:   0%|          | 0/3 [00:00<?, ?it/s]"
      ]
     },
     "metadata": {},
     "output_type": "display_data"
    },
    {
     "data": {
      "application/vnd.jupyter.widget-view+json": {
       "model_id": "8a7b4fceb2e741cf8247b2f2dc35128e",
       "version_major": 2,
       "version_minor": 0
      },
      "text/plain": [
       "  0%|          | 0/11 [00:00<?, ?it/s]"
      ]
     },
     "metadata": {},
     "output_type": "display_data"
    },
    {
     "name": "stdout",
     "output_type": "stream",
     "text": [
      "huggingface/tokenizers: The current process just got forked, after parallelism has already been used. Disabling parallelism to avoid deadlocks...\n",
      "To disable this warning, you can either:\n",
      "\t- Avoid using `tokenizers` before the fork if possible\n",
      "\t- Explicitly set the environment variable TOKENIZERS_PARALLELISM=(true | false)\n"
     ]
    }
   ],
   "source": [
    "_, history = model.train_model(train, eval_df=dev) "
   ]
  },
  {
   "cell_type": "code",
   "execution_count": 27,
   "id": "03d44eb3",
   "metadata": {},
   "outputs": [
    {
     "data": {
      "text/plain": [
       "<matplotlib.legend.Legend at 0x7fe447d68280>"
      ]
     },
     "execution_count": 27,
     "metadata": {},
     "output_type": "execute_result"
    },
    {
     "data": {
      "image/png": "[encoded data removed]",
      "text/plain": [
       "<Figure size 432x288 with 1 Axes>"
      ]
     },
     "metadata": {
      "needs_background": "light"
     },
     "output_type": "display_data"
    }
   ],
   "source": [
    "# Training and evaluation loss\n",
    "train_loss = history['train_loss']\n",
    "eval_loss = history['eval_loss']\n",
    "plt.plot(train_loss, label='Training loss')\n",
    "plt.plot(eval_loss, label='Evaluation loss')\n",
    "plt.title('Training and evaluation loss')\n",
    "plt.legend()"
   ]
  },
  {
   "cell_type": "code",
   "execution_count": 28,
   "id": "eeeed4dd",
   "metadata": {},
   "outputs": [
    {
     "data": {
      "application/vnd.jupyter.widget-view+json": {
       "model_id": "84770429d6b444dcac2fec91c35cbdec",
       "version_major": 2,
       "version_minor": 0
      },
      "text/plain": [
       "  0%|          | 0/10 [00:00<?, ?it/s]"
      ]
     },
     "metadata": {},
     "output_type": "display_data"
    },
    {
     "name": "stdout",
     "output_type": "stream",
     "text": [
      "huggingface/tokenizers: The current process just got forked, after parallelism has already been used. Disabling parallelism to avoid deadlocks...\n",
      "To disable this warning, you can either:\n",
      "\t- Avoid using `tokenizers` before the fork if possible\n",
      "\t- Explicitly set the environment variable TOKENIZERS_PARALLELISM=(true | false)\n"
     ]
    },
    {
     "data": {
      "application/vnd.jupyter.widget-view+json": {
       "model_id": "5038ca76a8764496881caab3d7b65d96",
       "version_major": 2,
       "version_minor": 0
      },
      "text/plain": [
       "  0%|          | 0/2 [00:00<?, ?it/s]"
      ]
     },
     "metadata": {},
     "output_type": "display_data"
    },
    {
     "name": "stdout",
     "output_type": "stream",
     "text": [
      "              precision    recall  f1-score   support\n",
      "\n",
      "           0       0.62      1.00      0.77         5\n",
      "           1       0.00      0.00      0.00         3\n",
      "           2       0.50      0.50      0.50         2\n",
      "\n",
      "    accuracy                           0.60        10\n",
      "   macro avg       0.38      0.50      0.42        10\n",
      "weighted avg       0.41      0.60      0.48        10\n",
      "\n"
     ]
    },
    {
     "name": "stderr",
     "output_type": "stream",
     "text": [
      "/Users/mac/.local/lib/python3.8/site-packages/sklearn/metrics/_classification.py:1272: UndefinedMetricWarning: Precision and F-score are ill-defined and being set to 0.0 in labels with no predicted samples. Use `zero_division` parameter to control this behavior.\n",
      "  _warn_prf(average, modifier, msg_start, len(result))\n"
     ]
    }
   ],
   "source": [
    "predicted, probabilities = model.predict(test.text.to_list())\n",
    "test['predicted'] = predicted\n",
    "print(classification_report(test['labels'], test['predicted']))"
   ]
  },
  {
   "cell_type": "code",
   "execution_count": null,
   "id": "a1c25a9c",
   "metadata": {},
   "outputs": [],
   "source": []
  }
 ],
 "metadata": {
  "kernelspec": {
   "display_name": "Python 3 (ipykernel)",
   "language": "python",
   "name": "python3"
  },
  "language_info": {
   "codemirror_mode": {
    "name": "ipython",
    "version": 3
   },
   "file_extension": ".py",
   "mimetype": "text/x-python",
   "name": "python",
   "nbconvert_exporter": "python",
   "pygments_lexer": "ipython3",
   "version": "3.8.8"
  }
 },
 "nbformat": 4,
 "nbformat_minor": 5
}
